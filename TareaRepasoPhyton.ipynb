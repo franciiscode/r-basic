{
 "cells": [
  {
   "cell_type": "markdown",
   "id": "123aa74f",
   "metadata": {},
   "source": [
    "## Pregunta 1\n",
    "Escribe una secuencia de instrucciones que permitan leer un número real por pantalla y que muestre si el\n",
    "número es positivo o no."
   ]
  },
  {
   "cell_type": "code",
   "execution_count": 26,
   "id": "b034271d",
   "metadata": {},
   "outputs": [
    {
     "name": "stdout",
     "output_type": "stream",
     "text": [
      "Número real4.1\n"
     ]
    }
   ],
   "source": [
    "num = float(input(\"Número real\"))"
   ]
  },
  {
   "cell_type": "code",
   "execution_count": 27,
   "id": "67244b10",
   "metadata": {},
   "outputs": [
    {
     "name": "stdout",
     "output_type": "stream",
     "text": [
      "True\n"
     ]
    }
   ],
   "source": [
    "if num>=0:\n",
    "    print(True)\n",
    "else:\n",
    "    print(False)"
   ]
  },
  {
   "cell_type": "markdown",
   "id": "981f27a1",
   "metadata": {},
   "source": [
    "## Pregunta 2\n",
    "Escribe una secuencia de instrucciones que permitan leer un número real por pantalla y que muestre si el\n",
    "número está en el rango entre −5 y 5, ambos incluidos."
   ]
  },
  {
   "cell_type": "code",
   "execution_count": 42,
   "id": "0f443cb4",
   "metadata": {},
   "outputs": [
    {
     "name": "stdout",
     "output_type": "stream",
     "text": [
      "Numero real: 5.1\n"
     ]
    }
   ],
   "source": [
    "num2 = float(input(\"Numero real: \"))"
   ]
  },
  {
   "cell_type": "code",
   "execution_count": 44,
   "id": "947f0aed",
   "metadata": {},
   "outputs": [
    {
     "name": "stdout",
     "output_type": "stream",
     "text": [
      "False\n"
     ]
    }
   ],
   "source": [
    "if num2>=-5 and num2<=5:\n",
    "    print(True)\n",
    "else:\n",
    "    print(False)"
   ]
  },
  {
   "cell_type": "markdown",
   "id": "ba6b61ef",
   "metadata": {},
   "source": [
    "## Pregunta 3\n",
    "Escribe una secuencia de instrucciones que permitan leer las coordenadas de un punto (x, y) e indique en\n",
    "cuál de los cuatro cuadrantes se encuentra dicho punto.\n",
    "Si x = 0, deberás indicar que el punto se encuentra sobre el eje vertical.\n",
    "Si y = 0, deberás indicar que el punto se encuentra sobre el eje horizontal.\n",
    "Si tanto x = 0 como y = 0, entonces deberás indicar que el punto se trata del origen de coordenadas."
   ]
  },
  {
   "cell_type": "code",
   "execution_count": 12,
   "id": "5bcafd8d",
   "metadata": {},
   "outputs": [
    {
     "name": "stdout",
     "output_type": "stream",
     "text": [
      "Coordenada x: -1\n",
      "Coordenada y -1\n",
      "Cuadrante III\n"
     ]
    }
   ],
   "source": [
    "x = int(input(\"Coordenada x: \"))\n",
    "y = int(input(\"Coordenada y \"))\n",
    "\n",
    "if x  >0 and y >0:\n",
    "    print(\"Cuadrante I\")\n",
    "elif x <0 and y>0:\n",
    "    print(\"Cuadrante II\")\n",
    "elif x<0 and y<0:\n",
    "    print(\"Cuadrante III\")\n",
    "elif x>0 and y<0:\n",
    "    print(\"Cuadrante IV\")\n",
    "elif x==0 and y!=0:\n",
    "    print(\"Eje vertical\")\n",
    "elif y == 0 and x!=0:\n",
    "    print(\"Eje Horizontal\")\n",
    "else:\n",
    "    print(\"Origen\")"
   ]
  },
  {
   "cell_type": "markdown",
   "id": "72577408",
   "metadata": {},
   "source": [
    "## Pregunta 4\n",
    "Escribe una secuencia de instrucciones que permitan leer dos números enteros y muestre el cociente de la\n",
    "división entera y el resto de la división entera."
   ]
  },
  {
   "cell_type": "code",
   "execution_count": 48,
   "id": "61234d7d",
   "metadata": {},
   "outputs": [
    {
     "name": "stdout",
     "output_type": "stream",
     "text": [
      "Numero entero 1: 6\n",
      "Numero entero 2: 3\n"
     ]
    }
   ],
   "source": [
    "n1 = int(input(\"Numero entero 1: \"))\n",
    "n2 = int(input(\"Numero entero 2: \"))"
   ]
  },
  {
   "cell_type": "code",
   "execution_count": 49,
   "id": "ee18aa2d",
   "metadata": {},
   "outputs": [
    {
     "name": "stdout",
     "output_type": "stream",
     "text": [
      "2\n",
      "0\n"
     ]
    }
   ],
   "source": [
    "print(n1//n2)\n",
    "print(n1%n2)"
   ]
  },
  {
   "cell_type": "markdown",
   "id": "a3aecfc6",
   "metadata": {},
   "source": [
    "## Pregunta 5\n",
    "Escribe una secuencia de instrucciones que permitan leer un número entero y determinar si es cuadrado\n",
    "perfecto o no (piensa la mejor forma de hacerlo con lo que has aprendido hasta ahora).\n"
   ]
  },
  {
   "cell_type": "code",
   "execution_count": 72,
   "id": "e635d678",
   "metadata": {},
   "outputs": [
    {
     "name": "stdout",
     "output_type": "stream",
     "text": [
      "Introduce un numero positivo 9\n"
     ]
    }
   ],
   "source": [
    "numero = int(input(\"Introduce un numero positivo \"))"
   ]
  },
  {
   "cell_type": "code",
   "execution_count": 63,
   "id": "961b3a9b",
   "metadata": {},
   "outputs": [],
   "source": [
    "def cuadrado(numero):\n",
    "    for i in range(1,numero+1):\n",
    "        if i**2 == numero:\n",
    "            return True\n",
    "    return False"
   ]
  },
  {
   "cell_type": "code",
   "execution_count": 73,
   "id": "0e3477a7",
   "metadata": {},
   "outputs": [
    {
     "data": {
      "text/plain": [
       "True"
      ]
     },
     "execution_count": 73,
     "metadata": {},
     "output_type": "execute_result"
    }
   ],
   "source": [
    "cuadrado(numero)"
   ]
  },
  {
   "cell_type": "markdown",
   "id": "5db57032",
   "metadata": {},
   "source": [
    "## Pregunta 6\n",
    "Escribe una expresión que permita determinar si un número entero positivo puede corresponder a un año\n",
    "bisiesto o no. Se consideran años bisiestos aquellos cuyo número es divisible por cuatro excepto los años que\n",
    "son múltiplos de 100, a no ser que lo sean de 400 (por ejemplo el año 2000 fue bisiesto pero el 2100 no lo\n",
    "será)."
   ]
  },
  {
   "cell_type": "code",
   "execution_count": 69,
   "id": "4b6143f4",
   "metadata": {},
   "outputs": [
    {
     "name": "stdout",
     "output_type": "stream",
     "text": [
      "Introduce el año 2100\n"
     ]
    }
   ],
   "source": [
    "year = int(input(\"Introduce el año \"))\n"
   ]
  },
  {
   "cell_type": "code",
   "execution_count": 70,
   "id": "918b4f97",
   "metadata": {},
   "outputs": [
    {
     "name": "stdout",
     "output_type": "stream",
     "text": [
      "False\n"
     ]
    }
   ],
   "source": [
    "\n",
    "if year%4 == 0:\n",
    "    if year%100 == 0:\n",
    "        if year%400==0:\n",
    "            print(True)\n",
    "        else:\n",
    "            print(False)\n",
    "    else:\n",
    "        print(True)\n",
    "else:\n",
    "    print(False)"
   ]
  },
  {
   "cell_type": "markdown",
   "id": "0e62cef4",
   "metadata": {},
   "source": [
    "# Pregunta 7\n",
    "\n",
    "Busca la imagen de un tablero de ajedrez en Google y fíjate en la nomenclatura de las casillas. Escribe una\n",
    "secuencia que lea una letra y un número de teclado correspondiente a una casilla de un tablero de ajedrez y\n",
    "que indique si esta casilla es negra o blanca.\n"
   ]
  },
  {
   "cell_type": "code",
   "execution_count": 75,
   "id": "cef08be3",
   "metadata": {},
   "outputs": [],
   "source": [
    "\n",
    "letras = [\"a\",\"b\",\"c\",\"d\",\"e\",\"f\",\"g\",\"h\"]\n",
    "\n",
    "def casilla(letra, num):\n",
    "    for l in letras:\n",
    "        if l == \"a\" or l == \"c\" or l == \"e\" or l == \"g\":\n",
    "            for i in range(1,9):\n",
    "                if i%2==0:\n",
    "                    pos = str(l)+ str(i)\n",
    "                    pos2 = str(letra) + str(num)\n",
    "                    if pos == pos2:\n",
    "                        print(str(letra)+str(num)+\" es una casilla blanca\")\n",
    "                        return\n",
    "                else:\n",
    "                    pos = str(l)+ str(i)\n",
    "                    pos2 = str(letra) + str(num)\n",
    "                    if pos == pos2:\n",
    "                        print(str(letra)+str(num)+\" es una casilla negra\")\n",
    "\n",
    "                    \n",
    "        else:\n",
    "            for i in range(1,9):\n",
    "                if i%2==0:\n",
    "                    pos = str(l)+ str(i)\n",
    "                    pos2 = str(letra) + str(num)\n",
    "                    if pos == pos2:\n",
    "                        print(str(letra)+str(num)+\" es una casilla negra\")\n",
    "                        return\n",
    "                else:\n",
    "                    pos = str(l)+ str(i)\n",
    "                    pos2 = str(letra) + str(num)\n",
    "                    if pos == pos2:\n",
    "                        print(str(letra)+str(num)+\" es una casilla blanca\")\n",
    "            \n",
    "    "
   ]
  },
  {
   "cell_type": "code",
   "execution_count": 85,
   "id": "0feec1df",
   "metadata": {},
   "outputs": [
    {
     "name": "stdout",
     "output_type": "stream",
     "text": [
      "f5 es una casilla blanca\n"
     ]
    }
   ],
   "source": [
    "casilla(\"f\",5)"
   ]
  }
 ],
 "metadata": {
  "kernelspec": {
   "display_name": "Python 3 (ipykernel)",
   "language": "python",
   "name": "python3"
  },
  "language_info": {
   "codemirror_mode": {
    "name": "ipython",
    "version": 3
   },
   "file_extension": ".py",
   "mimetype": "text/x-python",
   "name": "python",
   "nbconvert_exporter": "python",
   "pygments_lexer": "ipython3",
   "version": "3.9.12"
  }
 },
 "nbformat": 4,
 "nbformat_minor": 5
}

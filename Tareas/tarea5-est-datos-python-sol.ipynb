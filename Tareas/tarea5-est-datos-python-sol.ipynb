{
 "cells": [
  {
   "cell_type": "markdown",
   "id": "92943507",
   "metadata": {},
   "source": [
    "## Ej. 1"
   ]
  },
  {
   "cell_type": "code",
   "execution_count": 4,
   "id": "2c994c0a",
   "metadata": {},
   "outputs": [],
   "source": [
    "#Crea una función que reciba los tres coeficientes a, b y c para resolver una ecuación de segundo grado. \n",
    "# Muestra la solución por pantalla y ayúdate de la librería math para acceder a la función raíz cuadrada.\n",
    "\n",
    "def eq2(a, b, c):\n",
    "    from math import sqrt\n",
    "    # (-b +- sqrt(b^2 - 4*a*c) ) / (2*a)\n",
    "    return (-b + sqrt(pow(b,2) - 4*a*c)) / (2*a), (-b - sqrt(pow(b,2) - 4*a*c)) / (2*a)"
   ]
  },
  {
   "cell_type": "code",
   "execution_count": 5,
   "id": "4258ccd0",
   "metadata": {},
   "outputs": [
    {
     "data": {
      "text/plain": [
       "(2.0, 0.25)"
      ]
     },
     "execution_count": 5,
     "metadata": {},
     "output_type": "execute_result"
    }
   ],
   "source": [
    "eq2(4,-9,2)"
   ]
  },
  {
   "cell_type": "markdown",
   "id": "2f3ea7d7",
   "metadata": {},
   "source": [
    "## Ej. 2\n"
   ]
  },
  {
   "cell_type": "code",
   "execution_count": 43,
   "id": "3123a420",
   "metadata": {},
   "outputs": [
    {
     "data": {
      "text/plain": [
       "True"
      ]
     },
     "execution_count": 43,
     "metadata": {},
     "output_type": "execute_result"
    }
   ],
   "source": [
    "#funciona para frases sin caracteres especiales\n",
    "def palindromo(word):\n",
    "    wspaces = word.split(\" \")\n",
    "    vword = \"\"\n",
    "    mword = \"\"\n",
    "    cont = 0\n",
    "    n = 0\n",
    "    for i in wspaces:\n",
    "        vword = vword + i\n",
    "        mword = mword+ i\n",
    " \n",
    "    for j in range(len(vword)-1,-1,-1):\n",
    "        if mword[cont] == vword[j]:\n",
    "            n += 1\n",
    "        cont += 1\n",
    "        \n",
    "    if n == cont:\n",
    "        return True\n",
    "    return False\n",
    "        \n",
    "palindromo(\"la ruta nos aporto otro paso natural\")"
   ]
  },
  {
   "cell_type": "markdown",
   "id": "97103371",
   "metadata": {},
   "source": [
    "## Ej. 3"
   ]
  },
  {
   "cell_type": "code",
   "execution_count": 45,
   "id": "67a9ba9f",
   "metadata": {},
   "outputs": [
    {
     "name": "stdout",
     "output_type": "stream",
     "text": [
      "{1: 1.0, 2: 1.4142135623730951, 3: 1.7320508075688772, 4: 2.0, 5: 2.23606797749979, 6: 2.449489742783178, 7: 2.6457513110645907, 8: 2.8284271247461903, 9: 3.0, 10: 3.1622776601683795}\n"
     ]
    }
   ],
   "source": [
    "# Pregunta 3\n",
    "#Crea un diccionario que tenga por claves los números del 1 al 10 y como valores sus raíces cuadradas.\n",
    "from math import sqrt\n",
    "dict1 = {}\n",
    "\n",
    "for i in range(1,11):\n",
    "    dict1[i] = sqrt(i)\n",
    "    \n",
    "print(dict1)"
   ]
  },
  {
   "cell_type": "markdown",
   "id": "a6ab07ce",
   "metadata": {},
   "source": [
    "## Ej. 4"
   ]
  },
  {
   "cell_type": "code",
   "execution_count": 48,
   "id": "34a72ad7",
   "metadata": {},
   "outputs": [
    {
     "name": "stdout",
     "output_type": "stream",
     "text": [
      "Introduce una frase: perro\n",
      "La frase en morse es: .--. . .-. .-. ---\n"
     ]
    }
   ],
   "source": [
    "\n",
    "m_dict = {\n",
    "    'a': '.-', 'b': '-...', 'c': '-.-.', 'd': '-..', 'e': '.', 'f': '..-.',\n",
    "    'g': '--.', 'h': '....', 'i': '..', 'j': '.---', 'k': '-.-', 'l': '.-..',\n",
    "    'm': '--', 'n': '-.', 'o': '---', 'p': '.--.', 'q': '--.-', 'r': '.-.',\n",
    "    's': '...', 't': '-', 'u': '..-', 'v': '...-', 'w': '.--', 'x': '-..-',\n",
    "    'y': '-.--', 'z': '--..'}\n",
    "\n",
    "\n",
    "def to_morse(frase):\n",
    "    morse = ''\n",
    "    \n",
    "    for letra in frase.lower():\n",
    "        if letra == ' ':\n",
    "            morse += ' '\n",
    "        elif letra in m_dict:\n",
    "            morse += m_dict[letra] + ' '\n",
    "            \n",
    "    return morse.strip()\n",
    "\n",
    "\n",
    "frase = input('Introduce una frase: ')\n",
    "morse = to_morse(frase)\n",
    "\n",
    "print('La frase en morse es:', morse)\n"
   ]
  },
  {
   "cell_type": "markdown",
   "id": "2aa49922",
   "metadata": {},
   "source": [
    "## Ej. 5"
   ]
  },
  {
   "cell_type": "code",
   "execution_count": 93,
   "id": "6e185ad0",
   "metadata": {},
   "outputs": [
    {
     "name": "stdout",
     "output_type": "stream",
     "text": [
      "Claves presentes en ambos ['a', 'b']\n"
     ]
    }
   ],
   "source": [
    "#Crea una función que dados dos diccionarios nos diga qué claves están presentes en ambos.\n",
    "\n",
    "dict1 = {\"a\": -1, \"b\":-2, \"c\": -3, \"d\": -4}\n",
    "dict2 = {\"x\": 10, \"a\": 9, \"b\":8, \"a\":7 }\n",
    "\n",
    "def its_in(dict1, dict2):\n",
    "    \n",
    "    \n",
    "    keys_sav = []\n",
    "    for key in dict1.keys():\n",
    "        \n",
    "        if key in dict2:\n",
    "            keys_sav.append(key)\n",
    "    \n",
    "    return keys_sav\n",
    "\n",
    "claves = its_in(dict1, dict2)\n",
    "print(\"Claves presentes en ambos\",claves)"
   ]
  },
  {
   "cell_type": "markdown",
   "id": "8d70f039",
   "metadata": {},
   "source": [
    "## Ej. 6"
   ]
  },
  {
   "cell_type": "code",
   "execution_count": 63,
   "id": "959db129",
   "metadata": {},
   "outputs": [
    {
     "name": "stdout",
     "output_type": "stream",
     "text": [
      "Introduce un número entero:11\n",
      "11 es primo\n"
     ]
    }
   ],
   "source": [
    "def es_primo(n):\n",
    "    \n",
    "    if n <= 1:\n",
    "        return False\n",
    "\n",
    "    for i in range(2, n):\n",
    "        if n % i == 0:\n",
    "            return False\n",
    "\n",
    "    return True\n",
    "\n",
    "n = int(input(\"Introduce un número entero:\"))\n",
    "\n",
    "if es_primo(n):\n",
    "    print(\"{} es primo\".format(n))\n",
    "else:\n",
    "    print(\"{} no es primo\".format(n))\n",
    "    \n"
   ]
  },
  {
   "cell_type": "markdown",
   "id": "07f073b5",
   "metadata": {},
   "source": [
    "## Ej. 7"
   ]
  },
  {
   "cell_type": "code",
   "execution_count": 76,
   "id": "0e2dfbfa",
   "metadata": {},
   "outputs": [
    {
     "name": "stdout",
     "output_type": "stream",
     "text": [
      "Introduce una frase:Hola como estas\n"
     ]
    },
    {
     "data": {
      "text/plain": [
       "'Hola Como Estas'"
      ]
     },
     "execution_count": 76,
     "metadata": {},
     "output_type": "execute_result"
    }
   ],
   "source": [
    "# Investiga la documentación de la clase string y crea un método que lea una frase del teclado y escriba la primera letra de cada palabra en Mayúscula.\n",
    "\n",
    "def to_mayus(frase):\n",
    "    return frase.title()\n",
    "    \n",
    "frase = input(\"Introduce una frase:\")\n",
    "to_mayus(frase)"
   ]
  },
  {
   "cell_type": "markdown",
   "id": "9c185740",
   "metadata": {},
   "source": [
    "## Ej. 8"
   ]
  },
  {
   "cell_type": "code",
   "execution_count": 88,
   "id": "b88be6d6",
   "metadata": {},
   "outputs": [
    {
     "data": {
      "text/plain": [
       "12"
      ]
     },
     "execution_count": 88,
     "metadata": {},
     "output_type": "execute_result"
    }
   ],
   "source": [
    "#Crea una función que calcule el máximo común divisor de dos números introducidos por el usuario por teclado.\n",
    "\n",
    "\n",
    "\n",
    "def mayor(num1,num2):\n",
    "    if num1>num2:\n",
    "        return num1\n",
    "    elif num1==num2:\n",
    "        print(\"los números son iguales\")\n",
    "    else:\n",
    "        return num2\n",
    "    \n",
    "def mcd(n1,n2):\n",
    "    fact1 = set()\n",
    "    fact2 = set()\n",
    "    may = mayor(n1,n2)\n",
    "\n",
    "    for i in range(1,may+1):\n",
    "        if n1%i==0:\n",
    "            fact1.add(i)\n",
    "        if n2%i==0:\n",
    "            fact2.add(i)\n",
    "\n",
    "    fact_may = 0\n",
    "    for i in fact2:\n",
    "        if i in fact1 &fact2:\n",
    "            if i>=fact_may:\n",
    "                fact_may = i\n",
    "    return fact_may\n",
    "\n",
    "mcd(12,24)"
   ]
  },
  {
   "cell_type": "markdown",
   "id": "e485704a",
   "metadata": {},
   "source": [
    "## Ej. 9"
   ]
  },
  {
   "cell_type": "code",
   "execution_count": 94,
   "id": "b0147f3d",
   "metadata": {},
   "outputs": [
    {
     "data": {
      "text/plain": [
       "'krñd fror hvwdv'"
      ]
     },
     "execution_count": 94,
     "metadata": {},
     "output_type": "execute_result"
    }
   ],
   "source": [
    "def cif_cesar(mensaje):\n",
    "    \n",
    "    alfa = 'abcdefghijklmnñopqrstuvwxyz'\n",
    "    cifrado = ''\n",
    "    \n",
    "    for letra in mensaje.lower():\n",
    "        if letra in alfa:\n",
    "            cifrado += alfa[(alfa.index(letra) + 3) % 27]\n",
    "        else:\n",
    "            cifrado += letra\n",
    "    return cifrado\n",
    "\n",
    "cif_cesar(\"Hola como estas\")"
   ]
  },
  {
   "cell_type": "markdown",
   "id": "f72e2408",
   "metadata": {},
   "source": [
    "## Ej. 10"
   ]
  },
  {
   "cell_type": "code",
   "execution_count": 107,
   "id": "3f883b3f",
   "metadata": {},
   "outputs": [
    {
     "name": "stdout",
     "output_type": "stream",
     "text": [
      "['Adriana', 'Ana', 'Bruno', 'Esteban', 'Leonardo', 'Luis', 'Marisol', 'Samuel', 'Sofía', 'Valeria']\n",
      "['Valeria', 'Sofía', 'Samuel', 'Marisol', 'Luis', 'Leonardo', 'Esteban', 'Bruno', 'Ana', 'Adriana']\n",
      "['Ana', 'Luis', 'Sofía', 'Bruno', 'Samuel', 'Valeria', 'Marisol', 'Esteban', 'Adriana', 'Leonardo']\n"
     ]
    }
   ],
   "source": [
    "# Dado una lista de nombres de persona, escribe una función que los ordene de tres formas diferentes:\n",
    "#A. De forma alfabética\n",
    "#B. De forma alfabética invertida\n",
    "#C. De nombre más corto al más largo.\n",
    "\n",
    "\n",
    "nombres = [\"Adriana\", \"Esteban\", \"Ana\", \"Luis\", \"Sofía\", \"Bruno\", \"Marisol\", \"Leonardo\", \"Valeria\", \"Samuel\"]\n",
    "\n",
    "def ordenar(names):\n",
    "    names.sort()\n",
    "    print(names)\n",
    "    names.sort(reverse= True)\n",
    "    print(names)\n",
    "    names.sort(key=len)\n",
    "    print(names)\n",
    "ordenar(nombres)"
   ]
  }
 ],
 "metadata": {
  "kernelspec": {
   "display_name": "Python 3 (ipykernel)",
   "language": "python",
   "name": "python3"
  },
  "language_info": {
   "codemirror_mode": {
    "name": "ipython",
    "version": 3
   },
   "file_extension": ".py",
   "mimetype": "text/x-python",
   "name": "python",
   "nbconvert_exporter": "python",
   "pygments_lexer": "ipython3",
   "version": "3.9.16"
  }
 },
 "nbformat": 4,
 "nbformat_minor": 5
}

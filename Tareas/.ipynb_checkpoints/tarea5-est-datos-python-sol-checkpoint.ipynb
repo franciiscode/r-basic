{
 "cells": [
  {
   "cell_type": "markdown",
   "id": "92943507",
   "metadata": {},
   "source": [
    "## Ej. 1"
   ]
  },
  {
   "cell_type": "code",
   "execution_count": 4,
   "id": "2c994c0a",
   "metadata": {},
   "outputs": [],
   "source": [
    "#Crea una función que reciba los tres coeficientes a, b y c para resolver una ecuación de segundo grado. \n",
    "# Muestra la solución por pantalla y ayúdate de la librería math para acceder a la función raíz cuadrada.\n",
    "\n",
    "def eq2(a, b, c):\n",
    "    from math import sqrt\n",
    "    # (-b +- sqrt(b^2 - 4*a*c) ) / (2*a)\n",
    "    return (-b + sqrt(pow(b,2) - 4*a*c)) / (2*a), (-b - sqrt(pow(b,2) - 4*a*c)) / (2*a)"
   ]
  },
  {
   "cell_type": "code",
   "execution_count": 5,
   "id": "4258ccd0",
   "metadata": {},
   "outputs": [
    {
     "data": {
      "text/plain": [
       "(2.0, 0.25)"
      ]
     },
     "execution_count": 5,
     "metadata": {},
     "output_type": "execute_result"
    }
   ],
   "source": [
    "eq2(4,-9,2)"
   ]
  },
  {
   "cell_type": "markdown",
   "id": "2f3ea7d7",
   "metadata": {},
   "source": [
    "## Ej. 2\n"
   ]
  },
  {
   "cell_type": "code",
   "execution_count": 43,
   "id": "3123a420",
   "metadata": {},
   "outputs": [
    {
     "data": {
      "text/plain": [
       "True"
      ]
     },
     "execution_count": 43,
     "metadata": {},
     "output_type": "execute_result"
    }
   ],
   "source": [
    "#funciona para frases sin caracteres especiales\n",
    "def palindromo(word):\n",
    "    wspaces = word.split(\" \")\n",
    "    vword = \"\"\n",
    "    mword = \"\"\n",
    "    cont = 0\n",
    "    n = 0\n",
    "    for i in wspaces:\n",
    "        vword = vword + i\n",
    "        mword = mword+ i\n",
    " \n",
    "    for j in range(len(vword)-1,-1,-1):\n",
    "        if mword[cont] == vword[j]:\n",
    "            n += 1\n",
    "        cont += 1\n",
    "        \n",
    "    if n == cont:\n",
    "        return True\n",
    "    return False\n",
    "        \n",
    "palindromo(\"la ruta nos aporto otro paso natural\")"
   ]
  },
  {
   "cell_type": "markdown",
   "id": "442296f8",
   "metadata": {},
   "source": [
    "## Ej. 3"
   ]
  },
  {
   "cell_type": "code",
   "execution_count": 45,
   "id": "20c68bd3",
   "metadata": {},
   "outputs": [
    {
     "name": "stdout",
     "output_type": "stream",
     "text": [
      "{1: 1.0, 2: 1.4142135623730951, 3: 1.7320508075688772, 4: 2.0, 5: 2.23606797749979, 6: 2.449489742783178, 7: 2.6457513110645907, 8: 2.8284271247461903, 9: 3.0, 10: 3.1622776601683795}\n"
     ]
    }
   ],
   "source": [
    "# Pregunta 3\n",
    "#Crea un diccionario que tenga por claves los números del 1 al 10 y como valores sus raíces cuadradas.\n",
    "from math import sqrt\n",
    "dicc = {}\n",
    "\n",
    "for i in range(1,11):\n",
    "    dicc[i] = sqrt(i)\n",
    "    \n",
    "print(dicc)"
   ]
  },
  {
   "cell_type": "markdown",
   "id": "7d5eb146",
   "metadata": {},
   "source": [
    "## Ej. 4"
   ]
  },
  {
   "cell_type": "code",
   "execution_count": 47,
   "id": "55eef073",
   "metadata": {},
   "outputs": [
    {
     "name": "stdout",
     "output_type": "stream",
     "text": [
      "Introduce una frase: perro\n",
      "La frase en morse es: .--. . .-. .-. --- \n"
     ]
    }
   ],
   "source": [
    "\n",
    "m_dict = {\n",
    "    'a': '.-', 'b': '-...', 'c': '-.-.', 'd': '-..', 'e': '.', 'f': '..-.',\n",
    "    'g': '--.', 'h': '....', 'i': '..', 'j': '.---', 'k': '-.-', 'l': '.-..',\n",
    "    'm': '--', 'n': '-.', 'o': '---', 'p': '.--.', 'q': '--.-', 'r': '.-.',\n",
    "    's': '...', 't': '-', 'u': '..-', 'v': '...-', 'w': '.--', 'x': '-..-',\n",
    "    'y': '-.--', 'z': '--..'}\n",
    "\n",
    "\n",
    "def to_morse(frase):\n",
    "    morse = ''\n",
    "    \n",
    "    for letra in frase.lower():\n",
    "        if letra == ' ':\n",
    "            morse += ' '\n",
    "        elif letra in m_dict:\n",
    "            morse += m_dict[letra] + ' '\n",
    "            \n",
    "    return morse\n",
    "\n",
    "\n",
    "frase = input('Introduce una frase: ')\n",
    "morse = to_morse(frase)\n",
    "\n",
    "print('La frase en morse es:', morse)\n"
   ]
  },
  {
   "cell_type": "markdown",
   "id": "7c95cb4c",
   "metadata": {},
   "source": [
    "## Ej. 5"
   ]
  },
  {
   "cell_type": "code",
   "execution_count": null,
   "id": "3df60672",
   "metadata": {},
   "outputs": [],
   "source": []
  }
 ],
 "metadata": {
  "kernelspec": {
   "display_name": "Python 3 (ipykernel)",
   "language": "python",
   "name": "python3"
  },
  "language_info": {
   "codemirror_mode": {
    "name": "ipython",
    "version": 3
   },
   "file_extension": ".py",
   "mimetype": "text/x-python",
   "name": "python",
   "nbconvert_exporter": "python",
   "pygments_lexer": "ipython3",
   "version": "3.9.16"
  }
 },
 "nbformat": 4,
 "nbformat_minor": 5
}
